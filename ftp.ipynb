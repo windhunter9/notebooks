{
 "cells": [
  {
   "cell_type": "code",
   "execution_count": 4,
   "metadata": {},
   "outputs": [],
   "source": [
    "\n",
    "import ftplib\n",
    "from ftplib import FTP\n",
    "import io\n",
    "from os.path import join\n",
    "import bz2\n",
    "server = ftplib.FTP()\n",
    "    \n",
    "# DWD FTP server host name\n",
    "server = \"opendata.dwd.de\"\n",
    "\n",
    "# FTP server path for our files\n",
    "serverpath = \"/weather/nwp/icon/grib/00/t_2m/\"\n",
    "# You don't have to print this, because this command itself prints dir contents \n",
    "\n",
    "user = \"anonymous\"\n",
    "passwd = \"guest@example.com\"\n",
    "\n",
    "ftp = FTP(server)\n",
    "ftp.login(user, passwd)\n",
    "ftp.cwd(serverpath)\n",
    "#server.d11ir()#\n",
    "path_data = \"/media/data/owncloud/code/julian_magnus/J_and_M/grib2/ICON_GLOBAL2WORLD_025_EASY/data/\"\n",
    "for i,name in enumerate(ftp.nlst()):\n",
    "    if i > 5:\n",
    "        break\n",
    "    # Create byte stream\n",
    "    f = io.BytesIO()\n",
    "    # Retrieve .bz2 file from ftp server\n",
    "    ftp.retrbinary(\"RETR \" + name, f.write)\n",
    "    # Decompress .bz2 file\n",
    "    decompressed_file = bz2.decompress(f.getvalue())\n",
    "    #  write to folder\n",
    "    file1 = open(join(path_data,name[:-4]), 'wb')\n",
    "    file1.write(decompressed_file)"
   ]
  },
  {
   "cell_type": "code",
   "execution_count": 8,
   "metadata": {},
   "outputs": [
    {
     "ename": "ModuleNotFoundError",
     "evalue": "No module named 'cdo'",
     "output_type": "error",
     "traceback": [
      "\u001b[0;31m---------------------------------------------------------------------------\u001b[0m",
      "\u001b[0;31mModuleNotFoundError\u001b[0m                       Traceback (most recent call last)",
      "\u001b[0;32m<ipython-input-8-14347f53a465>\u001b[0m in \u001b[0;36m<module>\u001b[0;34m()\u001b[0m\n\u001b[0;32m----> 1\u001b[0;31m \u001b[0;32mfrom\u001b[0m \u001b[0mclimate_data_operator\u001b[0m \u001b[0;32mimport\u001b[0m \u001b[0;34m*\u001b[0m\u001b[0;34m\u001b[0m\u001b[0m\n\u001b[0m",
      "\u001b[0;32m/media/data/owncloud/code/julian_magnus/J_and_M/git/notebooks/climate_data_operator.py\u001b[0m in \u001b[0;36m<module>\u001b[0;34m()\u001b[0m\n\u001b[0;32m----> 1\u001b[0;31m \u001b[0;32mfrom\u001b[0m \u001b[0mcdo\u001b[0m \u001b[0;32mimport\u001b[0m \u001b[0mCdo\u001b[0m\u001b[0;34m\u001b[0m\u001b[0m\n\u001b[0m\u001b[1;32m      2\u001b[0m \u001b[0mcdo\u001b[0m \u001b[0;34m=\u001b[0m \u001b[0mCdo\u001b[0m\u001b[0;34m(\u001b[0m\u001b[0;34m)\u001b[0m\u001b[0;34m\u001b[0m\u001b[0m\n",
      "\u001b[0;31mModuleNotFoundError\u001b[0m: No module named 'cdo'"
     ]
    }
   ],
   "source": [
    "from climate_data_operator import *"
   ]
  },
  {
   "cell_type": "code",
   "execution_count": 3,
   "metadata": {},
   "outputs": [],
   "source": [
    "import pkg_resources\n",
    "import types\n",
    "def get_imports():\n",
    "    for name, val in globals().items():\n",
    "        if isinstance(val, types.ModuleType):\n",
    "            # Split ensures you get root package, \n",
    "            # not just imported function\n",
    "            name = val.__name__.split(\".\")[0]\n",
    "\n",
    "        elif isinstance(val, type):\n",
    "            name = val.__module__.split(\".\")[0]\n",
    "\n",
    "        # Some packages are weird and have different\n",
    "        # imported names vs. system/pip names. Unfortunately,\n",
    "        # there is no systematic way to get pip names from\n",
    "        # a package's imported name. You'll have to had\n",
    "        # exceptions to this list manually!\n",
    "        poorly_named_packages = {\n",
    "            \"PIL\": \"Pillow\",\n",
    "            \"sklearn\": \"scikit-learn\"\n",
    "        }\n",
    "        if name in poorly_named_packages.keys():\n",
    "            name = poorly_named_packages[name]\n",
    "\n",
    "        yield name\n",
    "imports = list(set(get_imports()))\n",
    "\n",
    "# The only way I found to get the version of the root package\n",
    "# from only the name of the package is to cross-check the names \n",
    "# of installed packages vs. imported packages\n",
    "requirements = []\n",
    "for m in pkg_resources.working_set:\n",
    "    if m.project_name in imports and m.project_name!=\"pip\":\n",
    "        requirements.append((m.project_name, m.version))"
   ]
  },
  {
   "cell_type": "code",
   "execution_count": 4,
   "metadata": {},
   "outputs": [
    {
     "name": "stdout",
     "output_type": "stream",
     "text": [
      "['_ii', 'In', '__name__', '__', '_i', '__doc__', '_dh', 'quit', 'Out', '_i3', 'get_imports', 'pip', '___', 'get_ipython', 'types', '__loader__', 'pkg_resources', '__spec__', 'builtins', 'exit', '__package__', '_oh', '_', '_iii', '_i2', '_i1', '_ih']\n"
     ]
    }
   ],
   "source": [
    "print(imports)"
   ]
  },
  {
   "cell_type": "code",
   "execution_count": 47,
   "metadata": {},
   "outputs": [
    {
     "data": {
      "text/plain": [
       "5898409"
      ]
     },
     "execution_count": 47,
     "metadata": {},
     "output_type": "execute_result"
    }
   ],
   "source": [
    "#file = open(filename, 'rb')\n",
    "#f = file.read();\n",
    "\n",
    "file1 = open('test.grib2', 'wb')\n",
    "file1.write(decompressed_file)"
   ]
  },
  {
   "cell_type": "code",
   "execution_count": 30,
   "metadata": {},
   "outputs": [
    {
     "name": "stdout",
     "output_type": "stream",
     "text": [
      "icon_global_icosahedral_single-level_2018122600_168_T_2M.grib2.bz2\n"
     ]
    },
    {
     "data": {
      "text/plain": [
       "5898409"
      ]
     },
     "execution_count": 30,
     "metadata": {},
     "output_type": "execute_result"
    }
   ],
   "source": [
    "import bz2\n",
    "print(filename)\n",
    "file = open(filename, 'rb')\n",
    "f = file.read();\n",
    "decompressed_file = bz2.decompress(f)\n",
    "\n",
    "file1 = open('test.grib2', 'wb')\n",
    "file1.write(decompressed_file)"
   ]
  }
 ],
 "metadata": {
  "kernelspec": {
   "display_name": "Python 3",
   "language": "python",
   "name": "python3"
  },
  "language_info": {
   "codemirror_mode": {
    "name": "ipython",
    "version": 3
   },
   "file_extension": ".py",
   "mimetype": "text/x-python",
   "name": "python",
   "nbconvert_exporter": "python",
   "pygments_lexer": "ipython3",
   "version": "3.6.4"
  }
 },
 "nbformat": 4,
 "nbformat_minor": 2
}
