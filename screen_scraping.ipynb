{
 "cells": [
  {
   "cell_type": "code",
   "execution_count": 1,
   "metadata": {},
   "outputs": [],
   "source": [
    "import sys\n",
    "sys.path.insert(0, \"../mysite/windhunt/management/commands/\")"
   ]
  },
  {
   "cell_type": "code",
   "execution_count": 2,
   "metadata": {},
   "outputs": [],
   "source": [
    "import _windfinder\n",
    "import _screen_scraping"
   ]
  },
  {
   "cell_type": "code",
   "execution_count": 7,
   "metadata": {},
   "outputs": [],
   "source": [
    "def GetDay(tree, xpath):\n",
    "    day1 = _screen_scraping.GetText(tree, xpath)[0]\n",
    "    day1 = (day1[day1.find(\",\")+2:])\n",
    "    return day1;\n",
    "\n",
    "\n",
    "def GetDates(tree, xpath_runtime, xpath_day, xpath_hour):\n",
    "    year = str(datetime.today().year)[2:] \n",
    "    forecast_hour = _screen_scraping.GetText(tree, xpath_hour)\n",
    "\n",
    "    day1 = GetDay(tree, xpath_day)\n",
    "\n",
    "    #print(year + \" \" + day1+\" \"+ time)\n",
    "    \n",
    "    runtime = [datetime.strptime(year + \" \" + day1+\" \"+ time, '%y %b %d %H:%M') for hour in forecast_hour]\n",
    "    forecast_date = [datetime.strptime(year + \" \" + day1+\" \"+ hour[:-1], '%y %b %d %H') for hour in forecast_hour]\n",
    "    return runtime, forecast_date;\n",
    "\n",
    "\n",
    "def GetAngle(tree, xpath_angle):\n",
    "    wind_angle = _screen_scraping.GetText(tree, xpath_angle)\n",
    "    wind_angle = [s.replace('\\n', '').replace('°', '').strip() for s in wind_angle]\n",
    "    return wind_angle"
   ]
  },
  {
   "cell_type": "code",
   "execution_count": 29,
   "metadata": {},
   "outputs": [],
   "source": [
    "import _screen_scraping\n",
    "from datetime import datetime, timedelta\n",
    "import pandas as pd\n",
    "\n",
    "\n",
    "def GetForecast():\n",
    "    page = 'https://www.windfinder.com/forecast/lippesee_paderborn'\n",
    "    tree = _screen_scraping.GetHtmlData(page)\n",
    "\n",
    "    df = pd.DataFrame(columns = [\"runtime\", \"forecast_time\",\"average\",\"max\", \"angle\"])\n",
    "    rows = [\"3\",\"5\",\"6\",\"8\",\"9\"]\n",
    "    columns = ['1','2']\n",
    "    \n",
    "    xpath_runtime = '//*[@id=\"last-update\"]'\n",
    "    xpath_day = '//*[@id=\"sidebar-ad-scaffold\"]/div[1]/section/div[3]/div[1]/div[1]/h4'\n",
    "    \n",
    "    # counter for forecast days\n",
    "    day = 0\n",
    "    for x,d in enumerate(rows):\n",
    "        for y,column in enumerate(columns):\n",
    "            xpath_wind_max = '//*[@id=\"sidebar-ad-scaffold\"]/div[1]/section/div['+d+']/div['+column+']/div[2]/div/div[4]/div[2]/span[2]'\n",
    "            wind_speed_max = _screen_scraping.GetList(tree, xpath_wind_max)\n",
    "\n",
    "            xpath_wind_average = '//*[@id=\"sidebar-ad-scaffold\"]/div[1]/section/div['+d+']/div['+column+']/div[2]/div/div[4]/div[1]/div[1]/span/span[1]'\n",
    "            wind_speed_average = _screen_scraping.GetList(tree, xpath_wind_average)\n",
    "            \n",
    "            xpath_angle ='//*[@id=\"sidebar-ad-scaffold\"]/div[1]/section/div['+d+']/div['+column+']/div[2]/div/div[3]/span[1]'\n",
    "            wind_angle = GetAngle(tree, xpath_angle)\n",
    "            \n",
    "            xpath_hour = '//*[@id=\"sidebar-ad-scaffold\"]/div[1]/section/div['+d+']/div['+column+']/div[2]/div/div[2]/div/span'\n",
    "            xpath_runtime = '//*[@id=\"last-update\"]'\n",
    "            \n",
    "            runtime, forecast_time = GetDates(tree, xpath_runtime, xpath_day, xpath_hour)\n",
    "            print(day)\n",
    "            for i,f in enumerate(runtime):\n",
    "                  df.loc[len(df)] = [pd.to_datetime(runtime[i]), pd.to_datetime(forecast_time[i]+timedelta(days = day)), wind_speed_average[i], wind_speed_max[i], wind_angle[i]]\n",
    "            day +=1\n",
    "    return df\n"
   ]
  },
  {
   "cell_type": "code",
   "execution_count": 3,
   "metadata": {},
   "outputs": [
    {
     "name": "stdout",
     "output_type": "stream",
     "text": [
      "0\n",
      "1\n",
      "2\n",
      "3\n",
      "4\n",
      "5\n",
      "6\n",
      "7\n",
      "8\n",
      "9\n"
     ]
    }
   ],
   "source": [
    "df = _windfinder.GetForecast()"
   ]
  },
  {
   "cell_type": "code",
   "execution_count": 5,
   "metadata": {},
   "outputs": [
    {
     "name": "stdout",
     "output_type": "stream",
     "text": [
      "               runtime       forecast_time average max angle\n",
      "0  2018-12-15 11:48:00 2018-12-15 01:00:00       4   8   100\n",
      "1  2018-12-15 11:48:00 2018-12-15 04:00:00       5   8    94\n",
      "2  2018-12-15 11:48:00 2018-12-15 07:00:00       6  12   109\n",
      "3  2018-12-15 11:48:00 2018-12-15 10:00:00       8  16   123\n",
      "4  2018-12-15 11:48:00 2018-12-15 13:00:00       9  14   130\n",
      "5  2018-12-15 11:48:00 2018-12-15 16:00:00       8  17   122\n",
      "6  2018-12-15 11:48:00 2018-12-15 19:00:00      12  24   128\n",
      "7  2018-12-15 11:48:00 2018-12-15 22:00:00      13  28   136\n",
      "8  2018-12-15 11:48:00 2018-12-16 01:00:00      13  26   142\n",
      "9  2018-12-15 11:48:00 2018-12-16 04:00:00      13  26   143\n",
      "10 2018-12-15 11:48:00 2018-12-16 07:00:00      12  25   147\n",
      "11 2018-12-15 11:48:00 2018-12-16 10:00:00      11  22   161\n",
      "12 2018-12-15 11:48:00 2018-12-16 13:00:00       7  15   181\n",
      "13 2018-12-15 11:48:00 2018-12-16 16:00:00       6  17   227\n",
      "14 2018-12-15 11:48:00 2018-12-16 19:00:00       6  13   221\n",
      "15 2018-12-15 11:48:00 2018-12-16 22:00:00       5   9   205\n",
      "16 2018-12-15 11:48:00 2018-12-17 01:00:00       5   8   198\n",
      "17 2018-12-15 11:48:00 2018-12-17 04:00:00       4   5   173\n",
      "18 2018-12-15 11:48:00 2018-12-17 07:00:00       6  10   165\n",
      "19 2018-12-15 11:48:00 2018-12-17 10:00:00       5  12   176\n",
      "20 2018-12-15 11:48:00 2018-12-17 13:00:00       7  19   229\n",
      "21 2018-12-15 11:48:00 2018-12-17 16:00:00       6  16   252\n",
      "22 2018-12-15 11:48:00 2018-12-17 19:00:00       7  16   246\n",
      "23 2018-12-15 11:48:00 2018-12-17 22:00:00       6  13   233\n",
      "24 2018-12-15 11:48:00 2018-12-18 01:00:00       5  12   223\n",
      "25 2018-12-15 11:48:00 2018-12-18 04:00:00       5   7   191\n",
      "26 2018-12-15 11:48:00 2018-12-18 07:00:00       6   8   157\n",
      "27 2018-12-15 11:48:00 2018-12-18 10:00:00       7  14   150\n",
      "28 2018-12-15 11:48:00 2018-12-18 13:00:00       9  17   149\n",
      "29 2018-12-15 11:48:00 2018-12-18 16:00:00       9  20   144\n",
      "..                 ...                 ...     ...  ..   ...\n",
      "50 2018-12-15 11:48:00 2018-12-21 07:00:00       3   4   246\n",
      "51 2018-12-15 11:48:00 2018-12-21 10:00:00       2   3   192\n",
      "52 2018-12-15 11:48:00 2018-12-21 13:00:00       2   4   175\n",
      "53 2018-12-15 11:48:00 2018-12-21 16:00:00       3   4   149\n",
      "54 2018-12-15 11:48:00 2018-12-21 19:00:00       5   7   171\n",
      "55 2018-12-15 11:48:00 2018-12-21 22:00:00       6  12   157\n",
      "56 2018-12-15 11:48:00 2018-12-22 01:00:00       8  19   157\n",
      "57 2018-12-15 11:48:00 2018-12-22 04:00:00       9  25   159\n",
      "58 2018-12-15 11:48:00 2018-12-22 07:00:00      13  30   165\n",
      "59 2018-12-15 11:48:00 2018-12-22 10:00:00      15  32   168\n",
      "60 2018-12-15 11:48:00 2018-12-22 13:00:00      14  30   181\n",
      "61 2018-12-15 11:48:00 2018-12-22 16:00:00      10  25   188\n",
      "62 2018-12-15 11:48:00 2018-12-22 19:00:00      12  29   224\n",
      "63 2018-12-15 11:48:00 2018-12-22 22:00:00      10  27   227\n",
      "64 2018-12-15 11:48:00 2018-12-23 01:00:00      11  26   235\n",
      "65 2018-12-15 11:48:00 2018-12-23 04:00:00      11  23   235\n",
      "66 2018-12-15 11:48:00 2018-12-23 07:00:00       6  16   208\n",
      "67 2018-12-15 11:48:00 2018-12-23 10:00:00       7  15   164\n",
      "68 2018-12-15 11:48:00 2018-12-23 13:00:00       9  18   158\n",
      "69 2018-12-15 11:48:00 2018-12-23 16:00:00       9  19   146\n",
      "70 2018-12-15 11:48:00 2018-12-23 19:00:00      12  24   137\n",
      "71 2018-12-15 11:48:00 2018-12-23 22:00:00      11  28   148\n",
      "72 2018-12-15 11:48:00 2018-12-24 01:00:00      11  26   144\n",
      "73 2018-12-15 11:48:00 2018-12-24 04:00:00       8  19   148\n",
      "74 2018-12-15 11:48:00 2018-12-24 07:00:00       7  15   141\n",
      "75 2018-12-15 11:48:00 2018-12-24 10:00:00       7  16   145\n",
      "76 2018-12-15 11:48:00 2018-12-24 13:00:00       6  13   158\n",
      "77 2018-12-15 11:48:00 2018-12-24 16:00:00       5   7   127\n",
      "78 2018-12-15 11:48:00 2018-12-24 19:00:00       4   5   149\n",
      "79 2018-12-15 11:48:00 2018-12-24 22:00:00       4   5   154\n",
      "\n",
      "[80 rows x 5 columns]\n"
     ]
    }
   ],
   "source": [
    "print(df)"
   ]
  },
  {
   "cell_type": "code",
   "execution_count": null,
   "metadata": {},
   "outputs": [],
   "source": []
  }
 ],
 "metadata": {
  "kernelspec": {
   "display_name": "Python 3",
   "language": "python",
   "name": "python3"
  },
  "language_info": {
   "codemirror_mode": {
    "name": "ipython",
    "version": 3
   },
   "file_extension": ".py",
   "mimetype": "text/x-python",
   "name": "python",
   "nbconvert_exporter": "python",
   "pygments_lexer": "ipython3",
   "version": "3.6.4"
  }
 },
 "nbformat": 4,
 "nbformat_minor": 2
}
